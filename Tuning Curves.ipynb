#Imports
import numpy as np
import pandas as pd
import matplotlib.pyplot as plt
%matplotlib inline
import os
import scipy.stats as st

#pd.set_option("display.max_rows", None, "display.max_columns", None)
pd.reset_option('all')

from allensdk.core.brain_observatory_cache import BrainObservatoryCache
import pprint
import allensdk.brain_observatory.stimulus_info as stim_info
from allensdk.brain_observatory.drifting_gratings import DriftingGratings

boc = BrainObservatoryCache()

vip_inter_ecs = boc.get_experiment_containers(targeted_structures=['VISp'],cre_lines=['Vip-IRES-Cre'])
# Download cells for a set of experiments and convert to DataFrame
cells = boc.get_cell_specimens()
cells = pd.DataFrame.from_records(cells)
print("total cells: %d" % len(cells))

# find direction selective cells in VISp
vip_inter_ec_ids = [ ec['id'] for ec in vip_inter_ecs ]
vip_inter_cells = cells[cells['experiment_container_id'].isin(vip_inter_ec_ids)]
print("VIP Interneuron cells: %d" % len(vip_inter_cells))

# significant response to drifting gratings stimulus
sig_cells = vip_inter_cells[vip_inter_cells['p_dg'] < 0.05]
print("cells with sig. response to drifting gratings: %d" % len(sig_cells))

# direction selective cells
dsi_cells = sig_cells[(sig_cells['g_dsi_dg'] > 0.9)]
print("direction-selective cells: %d" % len(dsi_cells))

# find experiment containers for those cells
dsi_ec_ids = dsi_cells['experiment_container_id'].unique()
print("total dsi experiment containers: %d" % len(dsi_ec_ids))

# Download the ophys experiments containing the drifting gratings stimulus for VISp experiment containers
dsi_exps = boc.get_ophys_experiments(experiment_container_ids=dsi_ec_ids, stimuli=[stim_info.DRIFTING_GRATINGS])
print("VIP Interneuron drifting gratings ophys experiments: %d" % len(dsi_exps))

print("Example ophys experiment:")
pprint.pprint(dsi_exps[0])

def get_unique_orientations(DG_table):

    pre_ORIs = DG_table['orientation'].unique() 
    ORIs = [x for x in pre_ORIs if np.isnan(x) == False]
    return ORIs

def get_unique_temporal_frequencies(DG_table):

    pre_TFs = DG_table['temporal_frequency'].unique()
    TFs = [x for x in pre_TFs if np.isnan(x) == False]
    return TFs

def get_conditon_trials(DG_table, ori, tf):
    for ori_idx, current_ori in enumerate(get_unique_orientations(DG_table)):
        for TF_idx, current_tf in enumerate(get_unique_temporal_frequencies(DG_table)):
            trials_in_condition = (DG_table['orientation'] == ori) & (DG_table['temporal_frequency'] == tf)
        
    condition_trial_indices = np.argwhere(trials_in_condition)
     
    just_indices = []
    for sublist in condition_trial_indices:
        just_indices.append(sublist[0])
        
    return just_indices


def get_blank_trials(DG_table):
    for ori_idx, current_ori in enumerate(get_unique_orientations(DG_table)):
        for TF_idx, current_tf in enumerate(get_unique_temporal_frequencies(DG_table)):
            trials_in_condition = (np.isnan(DG_table['orientation'])) & (np.isnan(DG_table['temporal_frequency']))
        
    condition_trial_indices = np.argwhere(trials_in_condition)
     
    just_indices = []
    for sublist in condition_trial_indices:
        just_indices.append(sublist[0])
        
    return just_indices


def dg_tuning_curve_wip(neuron_number, cell_array): 
    
    dsi_cell = dsi_cells.iloc[neuron_number]
    cell_exp = boc.get_ophys_experiments(cell_specimen_ids=[dsi_cell['cell_specimen_id']],stimuli=[stim_info.DRIFTING_GRATINGS])[0]
    data_set = boc.get_ophys_experiment_data(cell_exp['id'])

    dg = DriftingGratings(data_set)
    dg_peak = dg.peak
    
    
#     dg_table = data_set.get_stimulus_table("drifting_gratings")
#     dg_columns = list(dg_table.columns)
#     dg_mean_sweep_events = np.zeros(len(dg_table),  dg_table.size)
#     p_vals = chisq_from_stim_table(dg_table, dg_columns, dg_mean_sweep_events, num_shuffles=1000, verbose=False)

    #find normalized response
    blank = dg.response[0,0,neuron_number,0]
    normalized_response = (dg.response[:,:,neuron_number,0] - blank) / (np.nanmean(dg.response[:,:,neuron_number,0]) + blank)
    #(Response(d,tf) – Response(Blank)) / (mean Response(all d and tf) + R(Blank))
    

    fig, ax2  = plt.subplots()
    
    # plot orientation selectivity
    im = ax2.imshow(normalized_response, cmap='RdBu_r', interpolation='nearest')
    ax2.set_xlabel('temporal frequency')
    ax2.set_ylabel('orientation')
    ax2.set_xticks(np.arange(len(dg.tfvals)-1))
    ax2.set_xticklabels(dg.tfvals[1:])
    ax2.set_yticks(np.arange(len(dg.orivals)))
    ax2.set_yticklabels(dg.orivals)
    ax2.set_title('orientation selective cells p = ')
    # + str(p_vals))

    # plot a colorbar
    fig.subplots_adjust(right=0.9)
    cbar_ax = fig.add_axes([0.95, 0.05, 0.05, 0.85])
    cbar = fig.colorbar(im, cax=cbar_ax)

    plt.savefig('tuning_graph_images/neuron' + str(neuron_number) + '_tuning_graph.png', transparent=True)
    plt.show()

for neuron in range(len(dsi_exps)):
    dg_tuning_curve_wip(neuron, dsi_cells)
